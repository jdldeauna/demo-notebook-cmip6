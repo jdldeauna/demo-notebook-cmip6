{
 "cells": [
  {
   "cell_type": "markdown",
   "id": "03b2ef1f-5a76-45e2-8e86-e02ae6602297",
   "metadata": {},
   "source": [
    "# Demonstrating how to create surface (lat/lon) plots from CMIP6 data\n",
    "\n",
    "by [Dianne Deauna](https://github.com/jdldeauna)\n",
    "<br>\n",
    "Surface plots are useful for looking at the spatial variability of a parameter. This notebook also demonstrates how we can calculate how they change in the future, depending on different emissions scenarios."
   ]
  },
  {
   "cell_type": "markdown",
   "id": "01f53c4e-f0cd-4f48-9748-52f71931ceae",
   "metadata": {},
   "source": [
    "First, we import the packages we need for this example. To run a piece of code, click on the cell and hit `Shift` + `Enter`."
   ]
  },
  {
   "cell_type": "code",
   "execution_count": 1,
   "id": "e4805a85-a65b-4126-b3cf-04075ad30797",
   "metadata": {},
   "outputs": [],
   "source": [
    "import intake\n",
    "import matplotlib as plt\n",
    "import xarray as xr\n",
    "import numpy as np\n",
    "import cftime\n",
    "import dask\n",
    "import xgcm\n",
    "\n",
    "import cartopy.crs as ccrs\n",
    "import cartopy.feature as cfeature\n",
    "import matplotlib.pyplot as plt\n",
    "\n",
    "import cmocean as cmo\n",
    "import cmip6_preprocessing\n",
    "from cmip6_preprocessing.preprocessing import combined_preprocessing"
   ]
  },
  {
   "cell_type": "markdown",
   "id": "2fbd8a5e-e71f-4746-a9de-b892270578e7",
   "metadata": {},
   "source": [
    "Open dask client"
   ]
  },
  {
   "cell_type": "code",
   "execution_count": 2,
   "id": "779fac75-cfe1-4ab9-8aa5-e556b7894c77",
   "metadata": {},
   "outputs": [
    {
     "name": "stderr",
     "output_type": "stream",
     "text": [
      "/srv/conda/envs/notebook/lib/python3.8/site-packages/dask_gateway/client.py:21: FutureWarning: format_bytes is deprecated and will be removed in a future release. Please use dask.utils.format_bytes instead.\n",
      "  from distributed.utils import LoopRunner, format_bytes\n"
     ]
    },
    {
     "data": {
      "text/html": [
       "<div>\n",
       "    <div style=\"width: 24px; height: 24px; background-color: #e1e1e1; border: 3px solid #9D9D9D; border-radius: 5px; position: absolute;\"> </div>\n",
       "    <div style=\"margin-left: 48px;\">\n",
       "        <h3 style=\"margin-bottom: 0px;\">Client</h3>\n",
       "        <p style=\"color: #9D9D9D; margin-bottom: 0px;\">Client-6eaf8c64-58b7-11ec-8259-7ed354013ab7</p>\n",
       "        <table style=\"width: 100%; text-align: left;\">\n",
       "\n",
       "        <tr>\n",
       "        \n",
       "            <td style=\"text-align: left;\"><strong>Connection method:</strong> Cluster object</td>\n",
       "            <td style=\"text-align: left;\"><strong>Cluster type:</strong> dask_gateway.GatewayCluster</td>\n",
       "        \n",
       "        </tr>\n",
       "\n",
       "        \n",
       "            <tr>\n",
       "                <td style=\"text-align: left;\">\n",
       "                    <strong>Dashboard: </strong> <a href=\"/services/dask-gateway/clusters/prod.9477ba2cafbf47e49b9422403cd05081/status\" target=\"_blank\">/services/dask-gateway/clusters/prod.9477ba2cafbf47e49b9422403cd05081/status</a>\n",
       "                </td>\n",
       "                <td style=\"text-align: left;\"></td>\n",
       "            </tr>\n",
       "        \n",
       "\n",
       "        </table>\n",
       "\n",
       "        \n",
       "            <details>\n",
       "            <summary style=\"margin-bottom: 20px;\"><h3 style=\"display: inline;\">Cluster Info</h3></summary>\n",
       "            <div style='background-color: #f2f2f2; display: inline-block; padding: 10px; border: 1px solid #999999;'>\n",
       "  <h3>GatewayCluster</h3>\n",
       "  <ul>\n",
       "    <li><b>Name: </b>prod.9477ba2cafbf47e49b9422403cd05081\n",
       "    <li><b>Dashboard: </b><a href='/services/dask-gateway/clusters/prod.9477ba2cafbf47e49b9422403cd05081/status' target='_blank'>/services/dask-gateway/clusters/prod.9477ba2cafbf47e49b9422403cd05081/status</a>\n",
       "  </ul>\n",
       "</div>\n",
       "\n",
       "            </details>\n",
       "        \n",
       "\n",
       "    </div>\n",
       "</div>"
      ],
      "text/plain": [
       "<Client: 'tls://10.8.2.30:8786' processes=0 threads=0, memory=0 B>"
      ]
     },
     "execution_count": 2,
     "metadata": {},
     "output_type": "execute_result"
    }
   ],
   "source": [
    "from dask_gateway import GatewayCluster\n",
    "cluster = GatewayCluster()\n",
    "cluster.adapt(minimum=2, maximum=10) \n",
    "client = cluster.get_client()\n",
    "client"
   ]
  },
  {
   "cell_type": "markdown",
   "id": "56bd2775-a8cf-4ddc-8cb1-86d2e4964fee",
   "metadata": {},
   "source": [
    "Next, we download oxygen (`o2`) for UKESM1-0-LL, one example of an [Earth System Model](https://pcmdi.llnl.gov/CMIP6/ArchiveStatistics/esgf_data_holdings/). ESMs are global, 4-dimensional, coupled ocean-atmosphere-biogeochemical models commonly used to evaluate the effects of increased atmospheric carbon dioxide concentrations on planetary processes. Check out [this page](https://www.carbonbrief.org/cmip6-the-next-generation-of-climate-models-explained) for further information. In this example, we are using both modeled historical and [future climate data](https://www.carbonbrief.org/explainer-how-shared-socioeconomic-pathways-explore-future-climate-change) under high to low climate change mitigation scenarios, so feel free to explore! You can also play around with the [variable](http://proj.badc.rl.ac.uk/svn/exarch/CMIP6dreq/tags/latest/dreqPy/docs/CMIP6_MIP_tables.xlsx) you want to work with. The latest version of these datasets are under CMIP6 and are hosted in the cloud by the [Pangeo project](https://pangeo.io/). "
   ]
  },
  {
   "cell_type": "code",
   "execution_count": 3,
   "id": "3919f3da-5337-4001-988d-293ced3a8775",
   "metadata": {},
   "outputs": [
    {
     "name": "stdout",
     "output_type": "stream",
     "text": [
      "\n",
      "--> The keys in the returned dictionary of datasets are constructed as follows:\n",
      "\t'activity_id.institution_id.source_id.experiment_id.member_id.table_id.variable_id.grid_label.zstore.dcpp_init_year.version'\n"
     ]
    },
    {
     "data": {
      "text/html": [
       "\n",
       "    <div>\n",
       "        <style>\n",
       "            /* Turns off some styling */\n",
       "            progress {\n",
       "                /* gets rid of default border in Firefox and Opera. */\n",
       "                border: none;\n",
       "                /* Needs to be in here for Safari polyfill so background images work as expected. */\n",
       "                background-size: auto;\n",
       "            }\n",
       "            .progress-bar-interrupted, .progress-bar-interrupted::-webkit-progress-bar {\n",
       "                background: #F44336;\n",
       "            }\n",
       "        </style>\n",
       "      <progress value='3' class='' max='3' style='width:300px; height:20px; vertical-align: middle;'></progress>\n",
       "      100.00% [3/3 00:00<00:00]\n",
       "    </div>\n",
       "    "
      ],
      "text/plain": [
       "<IPython.core.display.HTML object>"
      ]
     },
     "metadata": {},
     "output_type": "display_data"
    }
   ],
   "source": [
    "col = intake.open_esm_datastore(\"https://storage.googleapis.com/cmip6/pangeo-cmip6.json\")\n",
    "cat = col.search(\n",
    "    source_id = 'UKESM1-0-LL', # use a different source ID if you want to try other models\n",
    "    member_id = 'r1i1p1f2', # common values are r1i1p1f1 or r1i1p1f2\n",
    "    experiment_id = ['historical','ssp585', 'ssp126'], \n",
    "    variable_id= ['o2'],\n",
    "    grid_label = 'gn', # common values are gn or gr, must double check if you're changing the model you're working with \n",
    "    \n",
    ")\n",
    "ddict = cat.to_dataset_dict(zarr_kwargs={'consolidated':True, 'use_cftime':True}, aggregate=False, preprocess=combined_preprocessing)"
   ]
  },
  {
   "cell_type": "markdown",
   "id": "e4ffbe59-b29a-413c-a8c0-a5e939534b57",
   "metadata": {},
   "source": [
    "Now we're getting our data from the initial download dictionary, and we need to make sure we're selecting the right `key` when assigning values."
   ]
  },
  {
   "cell_type": "code",
   "execution_count": 4,
   "id": "32b11452-5f85-439a-ad09-0475491f2b4c",
   "metadata": {},
   "outputs": [
    {
     "data": {
      "text/plain": [
       "dict_keys(['CMIP.MOHC.UKESM1-0-LL.historical.r1i1p1f2.Omon.o2.gn.gs://cmip6/CMIP6/CMIP/MOHC/UKESM1-0-LL/historical/r1i1p1f2/Omon/o2/gn/v20190627/.nan.20190627', 'ScenarioMIP.MOHC.UKESM1-0-LL.ssp126.r1i1p1f2.Omon.o2.gn.gs://cmip6/CMIP6/ScenarioMIP/MOHC/UKESM1-0-LL/ssp126/r1i1p1f2/Omon/o2/gn/v20190708/.nan.20190708', 'ScenarioMIP.MOHC.UKESM1-0-LL.ssp585.r1i1p1f2.Omon.o2.gn.gs://cmip6/CMIP6/ScenarioMIP/MOHC/UKESM1-0-LL/ssp585/r1i1p1f2/Omon/o2/gn/v20190726/.nan.20190726'])"
      ]
     },
     "execution_count": 4,
     "metadata": {},
     "output_type": "execute_result"
    }
   ],
   "source": [
    "ddict.keys()"
   ]
  },
  {
   "cell_type": "code",
   "execution_count": 5,
   "id": "199b684a-ffe0-4e5a-ad20-02df0c0c2408",
   "metadata": {},
   "outputs": [],
   "source": [
    "var_historical = ddict['CMIP.MOHC.UKESM1-0-LL.historical.r1i1p1f2.Omon.o2.gn.gs://cmip6/CMIP6/CMIP/MOHC/UKESM1-0-LL/historical/r1i1p1f2/Omon/o2/gn/v20190627/.nan.20190627']\n",
    "var_future_585 = ddict['ScenarioMIP.MOHC.UKESM1-0-LL.ssp585.r1i1p1f2.Omon.o2.gn.gs://cmip6/CMIP6/ScenarioMIP/MOHC/UKESM1-0-LL/ssp585/r1i1p1f2/Omon/o2/gn/v20190726/.nan.20190726']"
   ]
  },
  {
   "cell_type": "markdown",
   "id": "4771b244-d60d-4f93-b873-8e6a2822d843",
   "metadata": {},
   "source": [
    "`var_historical` and `var_future_585` are global in scope, so if we want to zoom in to a specific region, we need to subset according to latitude/longitude. The region we're using for this notebook is the California Current System, but feel free to experiment with the boundary values to focus on your own region. The last line lets you do a quick plot, which is a great practice to make sure we're getting the correct boundaries."
   ]
  },
  {
   "cell_type": "code",
   "execution_count": 6,
   "id": "f2726de4-6594-4877-b90f-0998b6a461b8",
   "metadata": {},
   "outputs": [
    {
     "name": "stderr",
     "output_type": "stream",
     "text": [
      "/srv/conda/envs/notebook/lib/python3.8/site-packages/xarray/core/indexing.py:1232: PerformanceWarning: Slicing is producing a large chunk. To accept the large\n",
      "chunk and silence this warning, set the option\n",
      "    >>> with dask.config.set(**{'array.slicing.split_large_chunks': False}):\n",
      "    ...     array[indexer]\n",
      "\n",
      "To avoid creating the large chunks, set the option\n",
      "    >>> with dask.config.set(**{'array.slicing.split_large_chunks': True}):\n",
      "    ...     array[indexer]\n",
      "  value = value[(slice(None),) * axis + (subkey,)]\n",
      "/srv/conda/envs/notebook/lib/python3.8/site-packages/xarray/core/indexing.py:1232: PerformanceWarning: Slicing is producing a large chunk. To accept the large\n",
      "chunk and silence this warning, set the option\n",
      "    >>> with dask.config.set(**{'array.slicing.split_large_chunks': False}):\n",
      "    ...     array[indexer]\n",
      "\n",
      "To avoid creating the large chunks, set the option\n",
      "    >>> with dask.config.set(**{'array.slicing.split_large_chunks': True}):\n",
      "    ...     array[indexer]\n",
      "  value = value[(slice(None),) * axis + (subkey,)]\n"
     ]
    },
    {
     "data": {
      "text/plain": [
       "<matplotlib.collections.QuadMesh at 0x7fc1f2918460>"
      ]
     },
     "execution_count": 6,
     "metadata": {},
     "output_type": "execute_result"
    },
    {
     "data": {
      "image/png": "[encoded data removed]",
      "text/plain": [
       "<Figure size 432x288 with 2 Axes>"
      ]
     },
     "metadata": {
      "needs_background": "light"
     },
     "output_type": "display_data"
    }
   ],
   "source": [
    "lat_north = 50\n",
    "lat_south = 25\n",
    "lon_west = 220\n",
    "lon_east = 249.25\n",
    "\n",
    "subset_historical = var_historical.where((var_historical.lat > lat_south) & (var_historical.lat < lat_north) & (var_historical.lon > lon_west) & (var_historical.lon < lon_east), drop=True)\n",
    "subset_future_585 = var_future_585.where((var_future_585.lat > lat_south) & (var_future_585.lat < lat_north) & (var_future_585.lon > lon_west) & (var_future_585.lon < lon_east), drop=True)\n",
    "\n",
    "varname = 'o2' # need to change if you selected a different variable\n",
    "subset_historical[varname].isel(lev=0,time=0).squeeze().plot()"
   ]
  },
  {
   "cell_type": "markdown",
   "id": "fda78085-a1cd-4ba6-a4f5-5789a6123ae1",
   "metadata": {},
   "source": [
    "At this point we can subset even further in depth and time. The next line lets you look at the raw values for ocean oxygen depth (`lev`). Select the depth you would like to plot, and the index that it corresponds to, then assign that value to `lev_index` in the next cell. In this example we're plotting oxygen at 47.21189 m (roughly where the oxycline is for this region), which means `lev_index` is equal to 18."
   ]
  },
  {
   "cell_type": "code",
   "execution_count": 7,
   "id": "d6518d65-197a-4c0b-98d2-938a47233601",
   "metadata": {},
   "outputs": [
    {
     "data": {
      "text/html": [
       "<div><svg style=\"position: absolute; width: 0; height: 0; overflow: hidden\">\n",
       "<defs>\n",
       "<symbol id=\"icon-database\" viewBox=\"0 0 32 32\">\n",
       "<path d=\"M16 0c-8.837 0-16 2.239-16 5v4c0 2.761 7.163 5 16 5s16-2.239 16-5v-4c0-2.761-7.163-5-16-5z\"></path>\n",
       "<path d=\"M16 17c-8.837 0-16-2.239-16-5v6c0 2.761 7.163 5 16 5s16-2.239 16-5v-6c0 2.761-7.163 5-16 5z\"></path>\n",
       "<path d=\"M16 26c-8.837 0-16-2.239-16-5v6c0 2.761 7.163 5 16 5s16-2.239 16-5v-6c0 2.761-7.163 5-16 5z\"></path>\n",
       "</symbol>\n",
       "<symbol id=\"icon-file-text2\" viewBox=\"0 0 32 32\">\n",
       "<path d=\"M28.681 7.159c-0.694-0.947-1.662-2.053-2.724-3.116s-2.169-2.030-3.116-2.724c-1.612-1.182-2.393-1.319-2.841-1.319h-15.5c-1.378 0-2.5 1.121-2.5 2.5v27c0 1.378 1.122 2.5 2.5 2.5h23c1.378 0 2.5-1.122 2.5-2.5v-19.5c0-0.448-0.137-1.23-1.319-2.841zM24.543 5.457c0.959 0.959 1.712 1.825 2.268 2.543h-4.811v-4.811c0.718 0.556 1.584 1.309 2.543 2.268zM28 29.5c0 0.271-0.229 0.5-0.5 0.5h-23c-0.271 0-0.5-0.229-0.5-0.5v-27c0-0.271 0.229-0.5 0.5-0.5 0 0 15.499-0 15.5 0v7c0 0.552 0.448 1 1 1h7v19.5z\"></path>\n",
       "<path d=\"M23 26h-14c-0.552 0-1-0.448-1-1s0.448-1 1-1h14c0.552 0 1 0.448 1 1s-0.448 1-1 1z\"></path>\n",
       "<path d=\"M23 22h-14c-0.552 0-1-0.448-1-1s0.448-1 1-1h14c0.552 0 1 0.448 1 1s-0.448 1-1 1z\"></path>\n",
       "<path d=\"M23 18h-14c-0.552 0-1-0.448-1-1s0.448-1 1-1h14c0.552 0 1 0.448 1 1s-0.448 1-1 1z\"></path>\n",
       "</symbol>\n",
       "</defs>\n",
       "</svg>\n",
       "<style>/* CSS stylesheet for displaying xarray objects in jupyterlab.\n",
       " *\n",
       " */\n",
       "\n",
       ":root {\n",
       "  --xr-font-color0: var(--jp-content-font-color0, rgba(0, 0, 0, 1));\n",
       "  --xr-font-color2: var(--jp-content-font-color2, rgba(0, 0, 0, 0.54));\n",
       "  --xr-font-color3: var(--jp-content-font-color3, rgba(0, 0, 0, 0.38));\n",
       "  --xr-border-color: var(--jp-border-color2, #e0e0e0);\n",
       "  --xr-disabled-color: var(--jp-layout-color3, #bdbdbd);\n",
       "  --xr-background-color: var(--jp-layout-color0, white);\n",
       "  --xr-background-color-row-even: var(--jp-layout-color1, white);\n",
       "  --xr-background-color-row-odd: var(--jp-layout-color2, #eeeeee);\n",
       "}\n",
       "\n",
       "html[theme=dark],\n",
       "body.vscode-dark {\n",
       "  --xr-font-color0: rgba(255, 255, 255, 1);\n",
       "  --xr-font-color2: rgba(255, 255, 255, 0.54);\n",
       "  --xr-font-color3: rgba(255, 255, 255, 0.38);\n",
       "  --xr-border-color: #1F1F1F;\n",
       "  --xr-disabled-color: #515151;\n",
       "  --xr-background-color: #111111;\n",
       "  --xr-background-color-row-even: #111111;\n",
       "  --xr-background-color-row-odd: #313131;\n",
       "}\n",
       "\n",
       ".xr-wrap {\n",
       "  display: block;\n",
       "  min-width: 300px;\n",
       "  max-width: 700px;\n",
       "}\n",
       "\n",
       ".xr-text-repr-fallback {\n",
       "  /* fallback to plain text repr when CSS is not injected (untrusted notebook) */\n",
       "  display: none;\n",
       "}\n",
       "\n",
       ".xr-header {\n",
       "  padding-top: 6px;\n",
       "  padding-bottom: 6px;\n",
       "  margin-bottom: 4px;\n",
       "  border-bottom: solid 1px var(--xr-border-color);\n",
       "}\n",
       "\n",
       ".xr-header > div,\n",
       ".xr-header > ul {\n",
       "  display: inline;\n",
       "  margin-top: 0;\n",
       "  margin-bottom: 0;\n",
       "}\n",
       "\n",
       ".xr-obj-type,\n",
       ".xr-array-name {\n",
       "  margin-left: 2px;\n",
       "  margin-right: 10px;\n",
       "}\n",
       "\n",
       ".xr-obj-type {\n",
       "  color: var(--xr-font-color2);\n",
       "}\n",
       "\n",
       ".xr-sections {\n",
       "  padding-left: 0 !important;\n",
       "  display: grid;\n",
       "  grid-template-columns: 150px auto auto 1fr 20px 20px;\n",
       "}\n",
       "\n",
       ".xr-section-item {\n",
       "  display: contents;\n",
       "}\n",
       "\n",
       ".xr-section-item input {\n",
       "  display: none;\n",
       "}\n",
       "\n",
       ".xr-section-item input + label {\n",
       "  color: var(--xr-disabled-color);\n",
       "}\n",
       "\n",
       ".xr-section-item input:enabled + label {\n",
       "  cursor: pointer;\n",
       "  color: var(--xr-font-color2);\n",
       "}\n",
       "\n",
       ".xr-section-item input:enabled + label:hover {\n",
       "  color: var(--xr-font-color0);\n",
       "}\n",
       "\n",
       ".xr-section-summary {\n",
       "  grid-column: 1;\n",
       "  color: var(--xr-font-color2);\n",
       "  font-weight: 500;\n",
       "}\n",
       "\n",
       ".xr-section-summary > span {\n",
       "  display: inline-block;\n",
       "  padding-left: 0.5em;\n",
       "}\n",
       "\n",
       ".xr-section-summary-in:disabled + label {\n",
       "  color: var(--xr-font-color2);\n",
       "}\n",
       "\n",
       ".xr-section-summary-in + label:before {\n",
       "  display: inline-block;\n",
       "  content: '►';\n",
       "  font-size: 11px;\n",
       "  width: 15px;\n",
       "  text-align: center;\n",
       "}\n",
       "\n",
       ".xr-section-summary-in:disabled + label:before {\n",
       "  color: var(--xr-disabled-color);\n",
       "}\n",
       "\n",
       ".xr-section-summary-in:checked + label:before {\n",
       "  content: '▼';\n",
       "}\n",
       "\n",
       ".xr-section-summary-in:checked + label > span {\n",
       "  display: none;\n",
       "}\n",
       "\n",
       ".xr-section-summary,\n",
       ".xr-section-inline-details {\n",
       "  padding-top: 4px;\n",
       "  padding-bottom: 4px;\n",
       "}\n",
       "\n",
       ".xr-section-inline-details {\n",
       "  grid-column: 2 / -1;\n",
       "}\n",
       "\n",
       ".xr-section-details {\n",
       "  display: none;\n",
       "  grid-column: 1 / -1;\n",
       "  margin-bottom: 5px;\n",
       "}\n",
       "\n",
       ".xr-section-summary-in:checked ~ .xr-section-details {\n",
       "  display: contents;\n",
       "}\n",
       "\n",
       ".xr-array-wrap {\n",
       "  grid-column: 1 / -1;\n",
       "  display: grid;\n",
       "  grid-template-columns: 20px auto;\n",
       "}\n",
       "\n",
       ".xr-array-wrap > label {\n",
       "  grid-column: 1;\n",
       "  vertical-align: top;\n",
       "}\n",
       "\n",
       ".xr-preview {\n",
       "  color: var(--xr-font-color3);\n",
       "}\n",
       "\n",
       ".xr-array-preview,\n",
       ".xr-array-data {\n",
       "  padding: 0 5px !important;\n",
       "  grid-column: 2;\n",
       "}\n",
       "\n",
       ".xr-array-data,\n",
       ".xr-array-in:checked ~ .xr-array-preview {\n",
       "  display: none;\n",
       "}\n",
       "\n",
       ".xr-array-in:checked ~ .xr-array-data,\n",
       ".xr-array-preview {\n",
       "  display: inline-block;\n",
       "}\n",
       "\n",
       ".xr-dim-list {\n",
       "  display: inline-block !important;\n",
       "  list-style: none;\n",
       "  padding: 0 !important;\n",
       "  margin: 0;\n",
       "}\n",
       "\n",
       ".xr-dim-list li {\n",
       "  display: inline-block;\n",
       "  padding: 0;\n",
       "  margin: 0;\n",
       "}\n",
       "\n",
       ".xr-dim-list:before {\n",
       "  content: '(';\n",
       "}\n",
       "\n",
       ".xr-dim-list:after {\n",
       "  content: ')';\n",
       "}\n",
       "\n",
       ".xr-dim-list li:not(:last-child):after {\n",
       "  content: ',';\n",
       "  padding-right: 5px;\n",
       "}\n",
       "\n",
       ".xr-has-index {\n",
       "  font-weight: bold;\n",
       "}\n",
       "\n",
       ".xr-var-list,\n",
       ".xr-var-item {\n",
       "  display: contents;\n",
       "}\n",
       "\n",
       ".xr-var-item > div,\n",
       ".xr-var-item label,\n",
       ".xr-var-item > .xr-var-name span {\n",
       "  background-color: var(--xr-background-color-row-even);\n",
       "  margin-bottom: 0;\n",
       "}\n",
       "\n",
       ".xr-var-item > .xr-var-name:hover span {\n",
       "  padding-right: 5px;\n",
       "}\n",
       "\n",
       ".xr-var-list > li:nth-child(odd) > div,\n",
       ".xr-var-list > li:nth-child(odd) > label,\n",
       ".xr-var-list > li:nth-child(odd) > .xr-var-name span {\n",
       "  background-color: var(--xr-background-color-row-odd);\n",
       "}\n",
       "\n",
       ".xr-var-name {\n",
       "  grid-column: 1;\n",
       "}\n",
       "\n",
       ".xr-var-dims {\n",
       "  grid-column: 2;\n",
       "}\n",
       "\n",
       ".xr-var-dtype {\n",
       "  grid-column: 3;\n",
       "  text-align: right;\n",
       "  color: var(--xr-font-color2);\n",
       "}\n",
       "\n",
       ".xr-var-preview {\n",
       "  grid-column: 4;\n",
       "}\n",
       "\n",
       ".xr-var-name,\n",
       ".xr-var-dims,\n",
       ".xr-var-dtype,\n",
       ".xr-preview,\n",
       ".xr-attrs dt {\n",
       "  white-space: nowrap;\n",
       "  overflow: hidden;\n",
       "  text-overflow: ellipsis;\n",
       "  padding-right: 10px;\n",
       "}\n",
       "\n",
       ".xr-var-name:hover,\n",
       ".xr-var-dims:hover,\n",
       ".xr-var-dtype:hover,\n",
       ".xr-attrs dt:hover {\n",
       "  overflow: visible;\n",
       "  width: auto;\n",
       "  z-index: 1;\n",
       "}\n",
       "\n",
       ".xr-var-attrs,\n",
       ".xr-var-data {\n",
       "  display: none;\n",
       "  background-color: var(--xr-background-color) !important;\n",
       "  padding-bottom: 5px !important;\n",
       "}\n",
       "\n",
       ".xr-var-attrs-in:checked ~ .xr-var-attrs,\n",
       ".xr-var-data-in:checked ~ .xr-var-data {\n",
       "  display: block;\n",
       "}\n",
       "\n",
       ".xr-var-data > table {\n",
       "  float: right;\n",
       "}\n",
       "\n",
       ".xr-var-name span,\n",
       ".xr-var-data,\n",
       ".xr-attrs {\n",
       "  padding-left: 25px !important;\n",
       "}\n",
       "\n",
       ".xr-attrs,\n",
       ".xr-var-attrs,\n",
       ".xr-var-data {\n",
       "  grid-column: 1 / -1;\n",
       "}\n",
       "\n",
       "dl.xr-attrs {\n",
       "  padding: 0;\n",
       "  margin: 0;\n",
       "  display: grid;\n",
       "  grid-template-columns: 125px auto;\n",
       "}\n",
       "\n",
       ".xr-attrs dt,\n",
       ".xr-attrs dd {\n",
       "  padding: 0;\n",
       "  margin: 0;\n",
       "  float: left;\n",
       "  padding-right: 10px;\n",
       "  width: auto;\n",
       "}\n",
       "\n",
       ".xr-attrs dt {\n",
       "  font-weight: normal;\n",
       "  grid-column: 1;\n",
       "}\n",
       "\n",
       ".xr-attrs dt:hover span {\n",
       "  display: inline-block;\n",
       "  background: var(--xr-background-color);\n",
       "  padding-right: 10px;\n",
       "}\n",
       "\n",
       ".xr-attrs dd {\n",
       "  grid-column: 2;\n",
       "  white-space: pre-wrap;\n",
       "  word-break: break-all;\n",
       "}\n",
       "\n",
       ".xr-icon-database,\n",
       ".xr-icon-file-text2 {\n",
       "  display: inline-block;\n",
       "  vertical-align: middle;\n",
       "  width: 1em;\n",
       "  height: 1.5em !important;\n",
       "  stroke-width: 0;\n",
       "  stroke: currentColor;\n",
       "  fill: currentColor;\n",
       "}\n",
       "</style><pre class='xr-text-repr-fallback'>&lt;xarray.DataArray &#x27;lev&#x27; (lev: 75)&gt;\n",
       "array([5.057600e-01, 1.555855e+00, 2.667682e+00, 3.856280e+00, 5.140361e+00,\n",
       "       6.543034e+00, 8.092519e+00, 9.822750e+00, 1.177368e+01, 1.399104e+01,\n",
       "       1.652532e+01, 1.942980e+01, 2.275762e+01, 2.655830e+01, 3.087456e+01,\n",
       "       3.574020e+01, 4.118002e+01, 4.721189e+01, 5.385064e+01, 6.111284e+01,\n",
       "       6.902168e+01, 7.761116e+01, 8.692943e+01, 9.704131e+01, 1.080303e+02,\n",
       "       1.200000e+02, 1.330758e+02, 1.474062e+02, 1.631645e+02, 1.805499e+02,\n",
       "       1.997900e+02, 2.211412e+02, 2.448906e+02, 2.713564e+02, 3.008875e+02,\n",
       "       3.338628e+02, 3.706885e+02, 4.117939e+02, 4.576256e+02, 5.086399e+02,\n",
       "       5.652923e+02, 6.280260e+02, 6.972587e+02, 7.733683e+02, 8.566790e+02,\n",
       "       9.474479e+02, 1.045854e+03, 1.151991e+03, 1.265861e+03, 1.387377e+03,\n",
       "       1.516364e+03, 1.652568e+03, 1.795671e+03, 1.945296e+03, 2.101027e+03,\n",
       "       2.262422e+03, 2.429025e+03, 2.600380e+03, 2.776039e+03, 2.955570e+03,\n",
       "       3.138565e+03, 3.324641e+03, 3.513446e+03, 3.704657e+03, 3.897982e+03,\n",
       "       4.093159e+03, 4.289953e+03, 4.488155e+03, 4.687581e+03, 4.888070e+03,\n",
       "       5.089479e+03, 5.291683e+03, 5.494575e+03, 5.698061e+03, 5.902058e+03])\n",
       "Coordinates:\n",
       "  * lev      (lev) float64 0.5058 1.556 2.668 ... 5.495e+03 5.698e+03 5.902e+03\n",
       "Attributes:\n",
       "    axis:           Z\n",
       "    bounds:         lev_bnds\n",
       "    long_name:      ocean depth coordinate\n",
       "    positive:       down\n",
       "    standard_name:  depth\n",
       "    units:          m</pre><div class='xr-wrap' hidden><div class='xr-header'><div class='xr-obj-type'>xarray.DataArray</div><div class='xr-array-name'>'lev'</div><ul class='xr-dim-list'><li><span class='xr-has-index'>lev</span>: 75</li></ul></div><ul class='xr-sections'><li class='xr-section-item'><div class='xr-array-wrap'><input id='section-9e12524c-c687-40a8-badb-823057043021' class='xr-array-in' type='checkbox' checked><label for='section-9e12524c-c687-40a8-badb-823057043021' title='Show/hide data repr'><svg class='icon xr-icon-database'><use xlink:href='#icon-database'></use></svg></label><div class='xr-array-preview xr-preview'><span>0.5058 1.556 2.668 3.856 ... 5.292e+03 5.495e+03 5.698e+03 5.902e+03</span></div><div class='xr-array-data'><pre>array([5.057600e-01, 1.555855e+00, 2.667682e+00, 3.856280e+00, 5.140361e+00,\n",
       "       6.543034e+00, 8.092519e+00, 9.822750e+00, 1.177368e+01, 1.399104e+01,\n",
       "       1.652532e+01, 1.942980e+01, 2.275762e+01, 2.655830e+01, 3.087456e+01,\n",
       "       3.574020e+01, 4.118002e+01, 4.721189e+01, 5.385064e+01, 6.111284e+01,\n",
       "       6.902168e+01, 7.761116e+01, 8.692943e+01, 9.704131e+01, 1.080303e+02,\n",
       "       1.200000e+02, 1.330758e+02, 1.474062e+02, 1.631645e+02, 1.805499e+02,\n",
       "       1.997900e+02, 2.211412e+02, 2.448906e+02, 2.713564e+02, 3.008875e+02,\n",
       "       3.338628e+02, 3.706885e+02, 4.117939e+02, 4.576256e+02, 5.086399e+02,\n",
       "       5.652923e+02, 6.280260e+02, 6.972587e+02, 7.733683e+02, 8.566790e+02,\n",
       "       9.474479e+02, 1.045854e+03, 1.151991e+03, 1.265861e+03, 1.387377e+03,\n",
       "       1.516364e+03, 1.652568e+03, 1.795671e+03, 1.945296e+03, 2.101027e+03,\n",
       "       2.262422e+03, 2.429025e+03, 2.600380e+03, 2.776039e+03, 2.955570e+03,\n",
       "       3.138565e+03, 3.324641e+03, 3.513446e+03, 3.704657e+03, 3.897982e+03,\n",
       "       4.093159e+03, 4.289953e+03, 4.488155e+03, 4.687581e+03, 4.888070e+03,\n",
       "       5.089479e+03, 5.291683e+03, 5.494575e+03, 5.698061e+03, 5.902058e+03])</pre></div></div></li><li class='xr-section-item'><input id='section-323bf8e9-348b-42ef-a744-5431ca796467' class='xr-section-summary-in' type='checkbox'  checked><label for='section-323bf8e9-348b-42ef-a744-5431ca796467' class='xr-section-summary' >Coordinates: <span>(1)</span></label><div class='xr-section-inline-details'></div><div class='xr-section-details'><ul class='xr-var-list'><li class='xr-var-item'><div class='xr-var-name'><span class='xr-has-index'>lev</span></div><div class='xr-var-dims'>(lev)</div><div class='xr-var-dtype'>float64</div><div class='xr-var-preview xr-preview'>0.5058 1.556 ... 5.902e+03</div><input id='attrs-81ff1f02-224f-4890-8bdf-1c572012e91e' class='xr-var-attrs-in' type='checkbox' ><label for='attrs-81ff1f02-224f-4890-8bdf-1c572012e91e' title='Show/Hide attributes'><svg class='icon xr-icon-file-text2'><use xlink:href='#icon-file-text2'></use></svg></label><input id='data-e614332d-c887-4899-9039-305093f11c6d' class='xr-var-data-in' type='checkbox'><label for='data-e614332d-c887-4899-9039-305093f11c6d' title='Show/Hide data repr'><svg class='icon xr-icon-database'><use xlink:href='#icon-database'></use></svg></label><div class='xr-var-attrs'><dl class='xr-attrs'><dt><span>axis :</span></dt><dd>Z</dd><dt><span>bounds :</span></dt><dd>lev_bnds</dd><dt><span>long_name :</span></dt><dd>ocean depth coordinate</dd><dt><span>positive :</span></dt><dd>down</dd><dt><span>standard_name :</span></dt><dd>depth</dd><dt><span>units :</span></dt><dd>m</dd></dl></div><div class='xr-var-data'><pre>array([5.057600e-01, 1.555855e+00, 2.667682e+00, 3.856280e+00, 5.140361e+00,\n",
       "       6.543034e+00, 8.092519e+00, 9.822750e+00, 1.177368e+01, 1.399104e+01,\n",
       "       1.652532e+01, 1.942980e+01, 2.275762e+01, 2.655830e+01, 3.087456e+01,\n",
       "       3.574020e+01, 4.118002e+01, 4.721189e+01, 5.385064e+01, 6.111284e+01,\n",
       "       6.902168e+01, 7.761116e+01, 8.692943e+01, 9.704131e+01, 1.080303e+02,\n",
       "       1.200000e+02, 1.330758e+02, 1.474062e+02, 1.631645e+02, 1.805499e+02,\n",
       "       1.997900e+02, 2.211412e+02, 2.448906e+02, 2.713564e+02, 3.008875e+02,\n",
       "       3.338628e+02, 3.706885e+02, 4.117939e+02, 4.576256e+02, 5.086399e+02,\n",
       "       5.652923e+02, 6.280260e+02, 6.972587e+02, 7.733683e+02, 8.566790e+02,\n",
       "       9.474479e+02, 1.045854e+03, 1.151991e+03, 1.265861e+03, 1.387377e+03,\n",
       "       1.516364e+03, 1.652568e+03, 1.795671e+03, 1.945296e+03, 2.101027e+03,\n",
       "       2.262422e+03, 2.429025e+03, 2.600380e+03, 2.776039e+03, 2.955570e+03,\n",
       "       3.138565e+03, 3.324641e+03, 3.513446e+03, 3.704657e+03, 3.897982e+03,\n",
       "       4.093159e+03, 4.289953e+03, 4.488155e+03, 4.687581e+03, 4.888070e+03,\n",
       "       5.089479e+03, 5.291683e+03, 5.494575e+03, 5.698061e+03, 5.902058e+03])</pre></div></li></ul></div></li><li class='xr-section-item'><input id='section-f7f16c1b-0f44-42ae-9e4c-70fae2fb50c9' class='xr-section-summary-in' type='checkbox'  checked><label for='section-f7f16c1b-0f44-42ae-9e4c-70fae2fb50c9' class='xr-section-summary' >Attributes: <span>(6)</span></label><div class='xr-section-inline-details'></div><div class='xr-section-details'><dl class='xr-attrs'><dt><span>axis :</span></dt><dd>Z</dd><dt><span>bounds :</span></dt><dd>lev_bnds</dd><dt><span>long_name :</span></dt><dd>ocean depth coordinate</dd><dt><span>positive :</span></dt><dd>down</dd><dt><span>standard_name :</span></dt><dd>depth</dd><dt><span>units :</span></dt><dd>m</dd></dl></div></li></ul></div></div>"
      ],
      "text/plain": [
       "<xarray.DataArray 'lev' (lev: 75)>\n",
       "array([5.057600e-01, 1.555855e+00, 2.667682e+00, 3.856280e+00, 5.140361e+00,\n",
       "       6.543034e+00, 8.092519e+00, 9.822750e+00, 1.177368e+01, 1.399104e+01,\n",
       "       1.652532e+01, 1.942980e+01, 2.275762e+01, 2.655830e+01, 3.087456e+01,\n",
       "       3.574020e+01, 4.118002e+01, 4.721189e+01, 5.385064e+01, 6.111284e+01,\n",
       "       6.902168e+01, 7.761116e+01, 8.692943e+01, 9.704131e+01, 1.080303e+02,\n",
       "       1.200000e+02, 1.330758e+02, 1.474062e+02, 1.631645e+02, 1.805499e+02,\n",
       "       1.997900e+02, 2.211412e+02, 2.448906e+02, 2.713564e+02, 3.008875e+02,\n",
       "       3.338628e+02, 3.706885e+02, 4.117939e+02, 4.576256e+02, 5.086399e+02,\n",
       "       5.652923e+02, 6.280260e+02, 6.972587e+02, 7.733683e+02, 8.566790e+02,\n",
       "       9.474479e+02, 1.045854e+03, 1.151991e+03, 1.265861e+03, 1.387377e+03,\n",
       "       1.516364e+03, 1.652568e+03, 1.795671e+03, 1.945296e+03, 2.101027e+03,\n",
       "       2.262422e+03, 2.429025e+03, 2.600380e+03, 2.776039e+03, 2.955570e+03,\n",
       "       3.138565e+03, 3.324641e+03, 3.513446e+03, 3.704657e+03, 3.897982e+03,\n",
       "       4.093159e+03, 4.289953e+03, 4.488155e+03, 4.687581e+03, 4.888070e+03,\n",
       "       5.089479e+03, 5.291683e+03, 5.494575e+03, 5.698061e+03, 5.902058e+03])\n",
       "Coordinates:\n",
       "  * lev      (lev) float64 0.5058 1.556 2.668 ... 5.495e+03 5.698e+03 5.902e+03\n",
       "Attributes:\n",
       "    axis:           Z\n",
       "    bounds:         lev_bnds\n",
       "    long_name:      ocean depth coordinate\n",
       "    positive:       down\n",
       "    standard_name:  depth\n",
       "    units:          m"
      ]
     },
     "execution_count": 7,
     "metadata": {},
     "output_type": "execute_result"
    }
   ],
   "source": [
    "subset_historical[varname].lev"
   ]
  },
  {
   "cell_type": "markdown",
   "id": "940e1980-b0a9-4240-835c-e102f13752b5",
   "metadata": {},
   "source": [
    "We're also getting the time-averaged mean for the last 30 years from each scenario, a period long enough to capture mean environmental conditions."
   ]
  },
  {
   "cell_type": "code",
   "execution_count": 8,
   "id": "3012b5e5-164a-4618-be8f-91600d2e048b",
   "metadata": {},
   "outputs": [],
   "source": [
    "lev_index = 18\n",
    "time_min_hist = '1985'\n",
    "time_max_hist = '2014'\n",
    "time_min_ssp = '2071'\n",
    "time_max_ssp = '2100'\n",
    "\n",
    "hist_mean = subset_historical[varname].isel(lev=lev_index).sel(time=slice(time_min_hist,time_max_hist)).mean(dim='time').squeeze()\n",
    "future_mean_585 = subset_future_585[varname].isel(lev=lev_index).sel(time=slice(time_min_ssp,time_max_ssp)).mean(dim='time').squeeze()"
   ]
  },
  {
   "cell_type": "markdown",
   "id": "7d8ba40c-9934-46ab-8be7-783c7bd11aa9",
   "metadata": {},
   "source": [
    "When using biogeochemical data, it's easier to interpret the results when converting units to mmol m^-3. If using data such as temperature or salinity, you can comment out the following cell. In any case, just make sure your units are correct."
   ]
  },
  {
   "cell_type": "code",
   "execution_count": 9,
   "id": "21b1a062-1ad6-470e-90b1-274f09f04988",
   "metadata": {},
   "outputs": [],
   "source": [
    "#Convert units of biogeochem data to mmol m^-3\n",
    "hist_mean = hist_mean*1000\n",
    "future_mean_585 = future_mean_585*1000"
   ]
  },
  {
   "cell_type": "markdown",
   "id": "0a3fb493-2a34-4e7c-bbaf-8a6500b9d75b",
   "metadata": {},
   "source": [
    "Plot the mean historical oxygen conditions"
   ]
  },
  {
   "cell_type": "code",
   "execution_count": 10,
   "id": "b54ddb78-efeb-4855-aaeb-de8d8b927409",
   "metadata": {},
   "outputs": [
    {
     "name": "stderr",
     "output_type": "stream",
     "text": [
      "/srv/conda/envs/notebook/lib/python3.8/site-packages/cartopy/mpl/geoaxes.py:1797: MatplotlibDeprecationWarning: shading='flat' when X and Y have the same dimensions as C is deprecated since 3.3.  Either specify the corners of the quadrilaterals with X and Y, or pass shading='auto', 'nearest' or 'gouraud', or set rcParams['pcolor.shading'].  This will become an error two minor releases later.\n",
      "  result = matplotlib.axes.Axes.pcolormesh(self, *args, **kwargs)\n"
     ]
    },
    {
     "data": {
      "text/plain": [
       "<cartopy.mpl.gridliner.Gridliner at 0x7fc201307be0>"
      ]
     },
     "execution_count": 10,
     "metadata": {},
     "output_type": "execute_result"
    },
    {
     "data": {
      "image/png": "[encoded data removed]",
      "text/plain": [
       "<Figure size 288x360 with 2 Axes>"
      ]
     },
     "metadata": {
      "needs_background": "light"
     },
     "output_type": "display_data"
    }
   ],
   "source": [
    "fig_size_height = 5\n",
    "fig_size_width = 4\n",
    "\n",
    "plt.figure(figsize=(fig_size_width,fig_size_height))\n",
    "ax = plt.axes(projection=ccrs.Mercator())\n",
    "hist_mean.plot.pcolormesh(ax=ax, x='lon', y='lat', transform=ccrs.PlateCarree())\n",
    "ax.coastlines()\n",
    "coast_10m = cfeature.NaturalEarthFeature('physical', 'land', '10m', edgecolor='w', facecolor='0.8')\n",
    "ax.add_feature(coast_10m)\n",
    "ax.set_title('Historical Mean ' + varname, fontsize=15)\n",
    "ax.gridlines(linestyle='--',color='#808080') "
   ]
  },
  {
   "cell_type": "markdown",
   "id": "4e5fc218-2dee-4cad-b7cf-28d06ffa0c61",
   "metadata": {},
   "source": [
    "Plot the mean oxygen conditions under a future scenario"
   ]
  },
  {
   "cell_type": "code",
   "execution_count": 11,
   "id": "9fa04e66-9356-4004-959e-1cecb4d1214b",
   "metadata": {},
   "outputs": [
    {
     "data": {
      "text/plain": [
       "<cartopy.mpl.gridliner.Gridliner at 0x7fc200d67c70>"
      ]
     },
     "execution_count": 11,
     "metadata": {},
     "output_type": "execute_result"
    },
    {
     "data": {
      "image/png": "[encoded data removed]",
      "text/plain": [
       "<Figure size 288x360 with 2 Axes>"
      ]
     },
     "metadata": {
      "needs_background": "light"
     },
     "output_type": "display_data"
    }
   ],
   "source": [
    "plt.figure(figsize=(fig_size_width,fig_size_height))\n",
    "ax = plt.axes(projection=ccrs.Mercator())\n",
    "future_mean_585.plot.pcolormesh(ax=ax, x='lon', y='lat', transform=ccrs.PlateCarree())\n",
    "ax.coastlines()\n",
    "coast_10m = cfeature.NaturalEarthFeature('physical', 'land', '10m', edgecolor='w', facecolor='0.8')\n",
    "ax.add_feature(coast_10m)\n",
    "ax.set_title('Future Mean ' + varname, fontsize=15)\n",
    "ax.gridlines(linestyle='--',color='#808080') "
   ]
  },
  {
   "cell_type": "markdown",
   "id": "44e2f609-d2f7-4a42-8341-5be307eed5d8",
   "metadata": {},
   "source": [
    "What's the difference in oxygen for the CCS region between a high-emission future scenario (`ssp585`) and the historical mean? "
   ]
  },
  {
   "cell_type": "code",
   "execution_count": 12,
   "id": "4bcb4320-3cc7-49b8-91e4-1732afa5c883",
   "metadata": {},
   "outputs": [
    {
     "name": "stderr",
     "output_type": "stream",
     "text": [
      "/srv/conda/envs/notebook/lib/python3.8/site-packages/cartopy/mpl/geoaxes.py:1797: MatplotlibDeprecationWarning: shading='flat' when X and Y have the same dimensions as C is deprecated since 3.3.  Either specify the corners of the quadrilaterals with X and Y, or pass shading='auto', 'nearest' or 'gouraud', or set rcParams['pcolor.shading'].  This will become an error two minor releases later.\n",
      "  result = matplotlib.axes.Axes.pcolormesh(self, *args, **kwargs)\n"
     ]
    },
    {
     "data": {
      "text/plain": [
       "<cartopy.mpl.gridliner.Gridliner at 0x7fc2011a68e0>"
      ]
     },
     "execution_count": 12,
     "metadata": {},
     "output_type": "execute_result"
    },
    {
     "data": {
      "image/png": "[encoded data removed]",
      "text/plain": [
       "<Figure size 288x360 with 2 Axes>"
      ]
     },
     "metadata": {
      "needs_background": "light"
     },
     "output_type": "display_data"
    }
   ],
   "source": [
    "diff_mean = future_mean_585-hist_mean\n",
    "vmin_in = -30\n",
    "vmax_in = 0\n",
    "\n",
    "plt.figure(figsize=(fig_size_width,fig_size_height))\n",
    "ax = plt.axes(projection=ccrs.Mercator())\n",
    "diff_mean.plot.pcolormesh(ax=ax, x='lon', y='lat', transform=ccrs.PlateCarree(), vmin=vmin_in, vmax=vmax_in, cmap=cmo.cm.ice, levels=31)\n",
    "ax.coastlines()\n",
    "coast_10m = cfeature.NaturalEarthFeature('physical', 'land', '10m', edgecolor='w', facecolor='0.8')\n",
    "ax.add_feature(coast_10m)\n",
    "ax.set_title('Difference bet ssp585 and hist ' + varname, fontsize=10)\n",
    "ax.gridlines(linestyle='--',color='#808080') "
   ]
  },
  {
   "cell_type": "markdown",
   "id": "49b118cd-0b00-4830-a7da-36489345b825",
   "metadata": {},
   "source": [
    "What if we calculated the difference between a low-emission future scenario (`ssp126`) and the historical mean?"
   ]
  },
  {
   "cell_type": "code",
   "execution_count": 13,
   "id": "610d07c2-30c1-4b27-b145-0ddc40493d4c",
   "metadata": {},
   "outputs": [
    {
     "name": "stderr",
     "output_type": "stream",
     "text": [
      "/srv/conda/envs/notebook/lib/python3.8/site-packages/xarray/core/indexing.py:1232: PerformanceWarning: Slicing is producing a large chunk. To accept the large\n",
      "chunk and silence this warning, set the option\n",
      "    >>> with dask.config.set(**{'array.slicing.split_large_chunks': False}):\n",
      "    ...     array[indexer]\n",
      "\n",
      "To avoid creating the large chunks, set the option\n",
      "    >>> with dask.config.set(**{'array.slicing.split_large_chunks': True}):\n",
      "    ...     array[indexer]\n",
      "  value = value[(slice(None),) * axis + (subkey,)]\n",
      "/srv/conda/envs/notebook/lib/python3.8/site-packages/cartopy/mpl/geoaxes.py:1797: MatplotlibDeprecationWarning: shading='flat' when X and Y have the same dimensions as C is deprecated since 3.3.  Either specify the corners of the quadrilaterals with X and Y, or pass shading='auto', 'nearest' or 'gouraud', or set rcParams['pcolor.shading'].  This will become an error two minor releases later.\n",
      "  result = matplotlib.axes.Axes.pcolormesh(self, *args, **kwargs)\n"
     ]
    },
    {
     "data": {
      "text/plain": [
       "<cartopy.mpl.gridliner.Gridliner at 0x7fc1f30b0400>"
      ]
     },
     "execution_count": 13,
     "metadata": {},
     "output_type": "execute_result"
    },
    {
     "data": {
      "image/png": "[encoded data removed]",
      "text/plain": [
       "<Figure size 288x360 with 2 Axes>"
      ]
     },
     "metadata": {
      "needs_background": "light"
     },
     "output_type": "display_data"
    }
   ],
   "source": [
    "var_future_126 = ddict['ScenarioMIP.MOHC.UKESM1-0-LL.ssp126.r1i1p1f2.Omon.o2.gn.gs://cmip6/CMIP6/ScenarioMIP/MOHC/UKESM1-0-LL/ssp126/r1i1p1f2/Omon/o2/gn/v20190708/.nan.20190708']\n",
    "subset_future_126 = var_future_126.where((var_future_126.lat > lat_south) & (var_future_126.lat < lat_north) & (var_future_126.lon > lon_west) & (var_future_126.lon < lon_east), drop=True)\n",
    "future_mean_126 = subset_future_126[varname].isel(lev=lev_index).sel(time=slice(time_min_ssp,time_max_ssp)).mean(dim='time').squeeze()\n",
    "future_mean_126 = future_mean_126*1000\n",
    "\n",
    "diff_mean_126 = future_mean_126-hist_mean\n",
    "vmin_in = -30\n",
    "vmax_in = 0\n",
    "\n",
    "plt.figure(figsize=(fig_size_width,fig_size_height))\n",
    "ax = plt.axes(projection=ccrs.Mercator())\n",
    "diff_mean_126.plot.pcolormesh(ax=ax, x='lon', y='lat', transform=ccrs.PlateCarree(), vmin=vmin_in, vmax=vmax_in, cmap=cmo.cm.ice, levels=31)\n",
    "ax.coastlines()\n",
    "coast_10m = cfeature.NaturalEarthFeature('physical', 'land', '10m', edgecolor='w', facecolor='0.8')\n",
    "ax.add_feature(coast_10m)\n",
    "ax.set_title('Difference bet ssp126 and hist ' + varname, fontsize=10)\n",
    "ax.gridlines(linestyle='--',color='#808080') "
   ]
  },
  {
   "cell_type": "markdown",
   "id": "5ea451ea-0a59-4a44-8065-f32c6f0165d2",
   "metadata": {},
   "source": [
    "#### What are the differences we can observe between the impacts of a high or low emission scenario on oxygen? What about for other parameters that you might have tried to plot?"
   ]
  }
 ],
 "metadata": {
  "kernelspec": {
   "display_name": "Python 3 (ipykernel)",
   "language": "python",
   "name": "python3"
  },
  "language_info": {
   "codemirror_mode": {
    "name": "ipython",
    "version": 3
   },
   "file_extension": ".py",
   "mimetype": "text/x-python",
   "name": "python",
   "nbconvert_exporter": "python",
   "pygments_lexer": "ipython3",
   "version": "3.8.12"
  }
 },
 "nbformat": 4,
 "nbformat_minor": 5
}
